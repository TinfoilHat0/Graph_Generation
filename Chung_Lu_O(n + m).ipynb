{
 "metadata": {
  "name": ""
 },
 "nbformat": 3,
 "nbformat_minor": 0,
 "worksheets": [
  {
   "cells": [
    {
     "cell_type": "code",
     "collapsed": false,
     "input": [
      "import networkit as nt\n",
      "import numpy as np"
     ],
     "language": "python",
     "metadata": {},
     "outputs": [],
     "prompt_number": 1
    },
    {
     "cell_type": "code",
     "collapsed": false,
     "input": [
      "N = 100 # n = # of nodes\n",
      "w = np.random.exponential(5.0, N)\n",
      "S = sum(w)\n",
      "w.sort()\n",
      "w = w[::-1]\n"
     ],
     "language": "python",
     "metadata": {},
     "outputs": [],
     "prompt_number": 2
    },
    {
     "cell_type": "code",
     "collapsed": false,
     "input": [
      "G = nt.Graph(0, False, False)"
     ],
     "language": "python",
     "metadata": {},
     "outputs": [],
     "prompt_number": 3
    },
    {
     "cell_type": "code",
     "collapsed": false,
     "input": [
      "for i in range(0, N):\n",
      "    G.addNode()\n",
      "G.toString()"
     ],
     "language": "python",
     "metadata": {},
     "outputs": [
      {
       "metadata": {},
       "output_type": "pyout",
       "prompt_number": 4,
       "text": [
        "b'Graph(name=G#3, n=100, m=0)'"
       ]
      }
     ],
     "prompt_number": 4
    },
    {
     "cell_type": "code",
     "collapsed": false,
     "input": [
      "for u in range(0, N): #build the graph\n",
      "    for v in range(u+1, N):\n",
      "        p = min((w[u]*w[v])/S, 1)\n",
      "        while v < N and p > 0:\n",
      "            if p != 1:\n",
      "                r = random.random()\n",
      "                v = v + ceil(log(r)/log(1-p))\n",
      "            if v < N:\n",
      "                q = min(w[u]*w[v]/S, 1)\n",
      "                r = random.random()\n",
      "                if r < q/p:\n",
      "                    G.addEdge(u,v)\n",
      "                p = q\n",
      "                v = v + 1\n",
      "G.toString()"
     ],
     "language": "python",
     "metadata": {},
     "outputs": [
      {
       "metadata": {},
       "output_type": "pyout",
       "prompt_number": 5,
       "text": [
        "b'Graph(name=G#3, n=100, m=5116)'"
       ]
      }
     ],
     "prompt_number": 5
    },
    {
     "cell_type": "code",
     "collapsed": false,
     "input": [
      "client = nt.gephi.streaming.GephiStreamingClient()\n",
      "client.exportGraph(G) #visualize in Gephi\n"
     ],
     "language": "python",
     "metadata": {},
     "outputs": [],
     "prompt_number": 6
    },
    {
     "cell_type": "code",
     "collapsed": false,
     "input": [],
     "language": "python",
     "metadata": {},
     "outputs": [],
     "prompt_number": 9
    },
    {
     "cell_type": "code",
     "collapsed": false,
     "input": [],
     "language": "python",
     "metadata": {},
     "outputs": []
    }
   ],
   "metadata": {}
  }
 ]
}